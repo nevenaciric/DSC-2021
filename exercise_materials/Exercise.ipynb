{
 "cells": [
  {
   "cell_type": "code",
   "execution_count": 1,
   "id": "ac8f176f",
   "metadata": {},
   "outputs": [],
   "source": [
    "import numpy as np\n",
    "import pandas as pd\n",
    "import matplotlib.pyplot as plt"
   ]
  },
  {
   "cell_type": "code",
   "execution_count": 2,
   "id": "ce699c63",
   "metadata": {},
   "outputs": [],
   "source": [
    "from sklearn import model_selection\n",
    "from sklearn import feature_extraction\n",
    "from sklearn import linear_model\n",
    "from sklearn import svm\n",
    "from sklearn import metrics"
   ]
  },
  {
   "cell_type": "code",
   "execution_count": null,
   "id": "78ca8f0c",
   "metadata": {},
   "outputs": [],
   "source": [
    "import nltk\n",
    "import string\n",
    "from nltk import tokenize\n",
    "from nltk.corpus import stopwords\n",
    "from nltk.stem import WordNetLemmatizer, PorterStemmer"
   ]
  },
  {
   "cell_type": "code",
   "execution_count": 3,
   "id": "399c1520",
   "metadata": {},
   "outputs": [],
   "source": [
    "np.random.seed(7)"
   ]
  },
  {
   "cell_type": "markdown",
   "id": "5654452e",
   "metadata": {},
   "source": [
    "TSV file <code>'data/SMSSpamCollection.tsv'</code> contains a collection of SMS messages with associated labels\n",
    "- 'spam' - if the message is spam\n",
    "- 'ham' - if the message is not spam\n",
    "\n",
    "The task is to apply the presented techniques for preprocessing, perform feature extraction and make a classifier that distinguishes spam and non-spam messages."
   ]
  },
  {
   "cell_type": "markdown",
   "id": "011a9143",
   "metadata": {},
   "source": [
    "1) Load dataset."
   ]
  },
  {
   "cell_type": "code",
   "execution_count": null,
   "id": "e993774c",
   "metadata": {},
   "outputs": [],
   "source": []
  },
  {
   "cell_type": "markdown",
   "id": "3b7e9d0e",
   "metadata": {},
   "source": [
    "2) Extract class labels and text corpus separately. "
   ]
  },
  {
   "cell_type": "code",
   "execution_count": null,
   "id": "460e609a",
   "metadata": {},
   "outputs": [],
   "source": []
  },
  {
   "cell_type": "markdown",
   "id": "96ffd445",
   "metadata": {},
   "source": [
    "3) Split dataset into a training and test subsets in ratio 2:1, with stratification (parameter <code>stratify</code>). Set <code>random_state</code> parameter to 7."
   ]
  },
  {
   "cell_type": "code",
   "execution_count": null,
   "id": "b4f1eeaa",
   "metadata": {},
   "outputs": [],
   "source": []
  },
  {
   "cell_type": "markdown",
   "id": "25568291",
   "metadata": {},
   "source": [
    "4) Define a function which will be used for text tokenization and preprocessing (use all of the presented procedures)."
   ]
  },
  {
   "cell_type": "code",
   "execution_count": null,
   "id": "86cf35dc",
   "metadata": {},
   "outputs": [],
   "source": []
  },
  {
   "cell_type": "markdown",
   "id": "078f3edb",
   "metadata": {},
   "source": [
    "5) Perform feature extraction using some of the presented methods. When building a vocabulary, exclude words that appear less than 2 times."
   ]
  },
  {
   "cell_type": "code",
   "execution_count": null,
   "id": "9400278a",
   "metadata": {},
   "outputs": [],
   "source": []
  },
  {
   "cell_type": "markdown",
   "id": "9f810501",
   "metadata": {},
   "source": [
    "6) Take a look at the size of the built vocabulary. Compare it to the size of the vocabulary obtained without text preprocessing."
   ]
  },
  {
   "cell_type": "code",
   "execution_count": null,
   "id": "4ead22fa",
   "metadata": {},
   "outputs": [],
   "source": []
  },
  {
   "cell_type": "markdown",
   "id": "05305dae",
   "metadata": {},
   "source": [
    "7) Train several types of classification models, evaluate them and compare with the previous ones."
   ]
  },
  {
   "cell_type": "code",
   "execution_count": null,
   "id": "ef13c6d8",
   "metadata": {},
   "outputs": [],
   "source": []
  }
 ],
 "metadata": {
  "kernelspec": {
   "display_name": "Python 3",
   "language": "python",
   "name": "python3"
  },
  "language_info": {
   "codemirror_mode": {
    "name": "ipython",
    "version": 3
   },
   "file_extension": ".py",
   "mimetype": "text/x-python",
   "name": "python",
   "nbconvert_exporter": "python",
   "pygments_lexer": "ipython3",
   "version": "3.8.8"
  }
 },
 "nbformat": 4,
 "nbformat_minor": 5
}
