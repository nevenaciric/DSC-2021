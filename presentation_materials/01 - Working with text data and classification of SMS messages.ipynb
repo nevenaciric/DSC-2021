{
 "cells": [
  {
   "cell_type": "code",
   "execution_count": 1,
   "id": "52ca9bde",
   "metadata": {},
   "outputs": [],
   "source": [
    "import numpy as np\n",
    "import pandas as pd\n",
    "import matplotlib.pyplot as plt"
   ]
  },
  {
   "cell_type": "code",
   "execution_count": 2,
   "id": "176fbba7",
   "metadata": {},
   "outputs": [],
   "source": [
    "from sklearn import model_selection\n",
    "from sklearn import feature_extraction\n",
    "from sklearn import linear_model\n",
    "from sklearn import svm\n",
    "from sklearn import neighbors\n",
    "from sklearn import metrics"
   ]
  },
  {
   "cell_type": "code",
   "execution_count": 3,
   "id": "194e11b4",
   "metadata": {},
   "outputs": [],
   "source": [
    "np.random.seed(7)"
   ]
  },
  {
   "cell_type": "markdown",
   "id": "c52f06b2",
   "metadata": {},
   "source": [
    "# Representing text data in a form suitable for machine learning algorithms"
   ]
  },
  {
   "cell_type": "markdown",
   "id": "853b1542",
   "metadata": {},
   "source": [
    "Textual data is unstructured by nature and therefore cannot be used in its raw form for automated analysis and information retrieval. With that being said, before applying machine learning methods it is necessary to perform some kind of preprocessing (such as lowering the text, reducing similar words to same form (lemmatization, stemming), different types of filtering, etc.) Another problem with modeling text is that most of machine learning algorithms require numeric features and fixed-length inputs. There are different techniques for obtaining numerical representations of textual data depending on how and which linguistic properties do we want to represent. This process is called **feature extraction**. Two methods will be presented below - **Bag of Words** and **TF-IDF**."
   ]
  },
  {
   "cell_type": "markdown",
   "id": "acd4e2bb",
   "metadata": {},
   "source": [
    "Dataset (corpus, linguistic term) which we will use to demonstrate these methods contains only two sentences.\n",
    "Instances do not necessarily have to be sentences, it could be paragraphs, whole text documents or any other textual forms."
   ]
  },
  {
   "cell_type": "code",
   "execution_count": 4,
   "id": "2a9dea5b",
   "metadata": {},
   "outputs": [],
   "source": [
    "corpus = ['I have to have time today to go and buy her a present.', 'Who is going to present next?']"
   ]
  },
  {
   "cell_type": "markdown",
   "id": "502b25b8",
   "metadata": {},
   "source": [
    "## Bag of Words method"
   ]
  },
  {
   "cell_type": "markdown",
   "id": "3fb1c60e",
   "metadata": {},
   "source": [
    "This is one of the simplest and most commonly used methods for text feature extraction. In this model, textual data is represented as the bag (multiset) of its words, disregarding grammatical details (for instance, same word in different contexts can be a verb and a noun) and even word order (e.g. the sentences 'Tom likes Mary' and 'Mary likes Tom' have the same set of words and different semantics) but keeping multiplicity. After transforming the text into a bag of words, the numerical representation is obtained by calculating some of the metrics for quantifying different linguistic properties (presence or frequency of words in the text, TF-IDF measure, etc.).\n",
    "\n",
    "<u>Procedure</u>: Suppose that in the vocabulary V (the set of all words in the corpus or a predefined set of relevant words) we have |V| words and that they are lexicographically arranged. We can assign ordinal numbers to the words corresponding to their positions in vocabulary. A sentence can therefore be represented as |V|-dimensional vector in which the $i$th element is $1$ if the $i$th word of the vocabulary is present in the sentence, otherwise it is $0$. Very often besides knowing the word presence of importance is to know the number of times some words appear in text (for instance, in topic identification). That is why this representation is usually upgraded so that $i$th element of the vector is the frequency of $i$th word in corresponding sentence. However, word frequencies are not necessarily the best representation because they do not take into account the length of the text - if the text is long, some words may appear unjustifiably with a higher frequency, and vice versa.\n",
    "\n",
    "<img src=\"assets/count_vectorizer.png\" width=750>"
   ]
  },
  {
   "cell_type": "markdown",
   "id": "a5608722",
   "metadata": {},
   "source": [
    "Scikit-learn library provides support for text vectorization using the Bag of Words method with frequencies through the <code>CountVectorizer</code> class. Constructor function has various settings, mainly related to the preprocessing phase:\n",
    "- <code>lowercase</code> - converting all characters to lowercase before tokenizing\n",
    "- <code>min_df</code> - lower cutoff value of the frequency values, used for excluding words that have a frequency less than a given threshold (e.g. it is used to filter various spelling errors)\n",
    "- <code>max_df</code> - upper cutoff value of the frequency values, used for excluding words that have a frequency higher than a given threshold (e.g. it is used to filter very common words such as conjunctions, articles, etc.)\n",
    "- <code>stop_words</code> - excluding common words or words that are considered irrelevant for the specific problem\n",
    "- <code>token_pattern</code> - excluding words that do not match a predefined format (e.g. it is used to exclude numbers, dates, etc.)\n",
    "- <code>tokenizer</code> i <code>preprocessor</code> - passing a custom function to perform tokenization/preprocessing (it can also be used affiliate with functionalities offered by other libraries)\n",
    "- <code>vocabulary</code> - assigning pre-prepared vocabulary"
   ]
  },
  {
   "cell_type": "code",
   "execution_count": 5,
   "id": "380fe4e4",
   "metadata": {},
   "outputs": [],
   "source": [
    "from sklearn.feature_extraction.text import CountVectorizer"
   ]
  },
  {
   "cell_type": "code",
   "execution_count": 6,
   "id": "e1b27103",
   "metadata": {},
   "outputs": [],
   "source": [
    "count_vectorizer = CountVectorizer()"
   ]
  },
  {
   "cell_type": "markdown",
   "id": "72a8365a",
   "metadata": {},
   "source": [
    "Method <code>fit()</code> creates a vocabulary for a given set of texts (corpus)."
   ]
  },
  {
   "cell_type": "code",
   "execution_count": 7,
   "id": "19ad1102",
   "metadata": {},
   "outputs": [
    {
     "data": {
      "text/plain": [
       "CountVectorizer()"
      ]
     },
     "execution_count": 7,
     "metadata": {},
     "output_type": "execute_result"
    }
   ],
   "source": [
    "count_vectorizer.fit(corpus)"
   ]
  },
  {
   "cell_type": "markdown",
   "id": "193f7d81",
   "metadata": {},
   "source": [
    "A list of extracted features (words) can be obtained by method <code>get_feature_names()</code>."
   ]
  },
  {
   "cell_type": "code",
   "execution_count": 8,
   "id": "2898d260",
   "metadata": {},
   "outputs": [
    {
     "data": {
      "text/plain": [
       "['and',\n",
       " 'buy',\n",
       " 'go',\n",
       " 'going',\n",
       " 'have',\n",
       " 'her',\n",
       " 'is',\n",
       " 'next',\n",
       " 'present',\n",
       " 'time',\n",
       " 'to',\n",
       " 'today',\n",
       " 'who']"
      ]
     },
     "execution_count": 8,
     "metadata": {},
     "output_type": "execute_result"
    }
   ],
   "source": [
    "count_vectorizer.get_feature_names()"
   ]
  },
  {
   "cell_type": "markdown",
   "id": "7907ff30",
   "metadata": {},
   "source": [
    "Extracted atributes (words) and their associated positions within the vector representation can be obtained by object attribute <code>vocabulary_</code>."
   ]
  },
  {
   "cell_type": "code",
   "execution_count": 9,
   "id": "b4da433b",
   "metadata": {},
   "outputs": [
    {
     "data": {
      "text/plain": [
       "{'have': 4,\n",
       " 'to': 10,\n",
       " 'time': 9,\n",
       " 'today': 11,\n",
       " 'go': 2,\n",
       " 'and': 0,\n",
       " 'buy': 1,\n",
       " 'her': 5,\n",
       " 'present': 8,\n",
       " 'who': 12,\n",
       " 'is': 6,\n",
       " 'going': 3,\n",
       " 'next': 7}"
      ]
     },
     "execution_count": 9,
     "metadata": {},
     "output_type": "execute_result"
    }
   ],
   "source": [
    "count_vectorizer.vocabulary_"
   ]
  },
  {
   "cell_type": "code",
   "execution_count": 10,
   "id": "2ff3fad9",
   "metadata": {},
   "outputs": [
    {
     "data": {
      "text/plain": [
       "13"
      ]
     },
     "execution_count": 10,
     "metadata": {},
     "output_type": "execute_result"
    }
   ],
   "source": [
    "len(count_vectorizer.vocabulary_)"
   ]
  },
  {
   "cell_type": "markdown",
   "id": "d529d3f4",
   "metadata": {},
   "source": [
    "Method <code>transform()</code> yields vector representations of sentences. In our example, both sentences will be represented by vectors of length $13$, so the result is $2\\times13$ matrix."
   ]
  },
  {
   "cell_type": "code",
   "execution_count": 11,
   "id": "2ae807ed",
   "metadata": {},
   "outputs": [],
   "source": [
    "corpus_bag_of_words = count_vectorizer.transform(corpus)"
   ]
  },
  {
   "cell_type": "code",
   "execution_count": 12,
   "id": "90504936",
   "metadata": {},
   "outputs": [
    {
     "data": {
      "text/plain": [
       "(2, 13)"
      ]
     },
     "execution_count": 12,
     "metadata": {},
     "output_type": "execute_result"
    }
   ],
   "source": [
    "corpus_bag_of_words.shape"
   ]
  },
  {
   "cell_type": "markdown",
   "id": "f19e1da9",
   "metadata": {},
   "source": [
    "Matrix of vector representations usually contains a large number of zeros and for such matrices we say that they are **sparse**. Sparse matrices are usually stored in a compressed format that involves saving only triplets <code>(row_index, column_index, value)</code> for non-zero values. Method <code>transform()</code> returns a matrix of vector representations in **CSR format** (Compressed Sparse Row format). In real applications, the size of the vocabulary is usually large (> 10000 words), so this design has a positive effect on both memory usage and \n",
    "computational performance."
   ]
  },
  {
   "cell_type": "code",
   "execution_count": 13,
   "id": "d843ae5b",
   "metadata": {},
   "outputs": [
    {
     "data": {
      "text/plain": [
       "scipy.sparse.csr.csr_matrix"
      ]
     },
     "execution_count": 13,
     "metadata": {},
     "output_type": "execute_result"
    }
   ],
   "source": [
    "type(corpus_bag_of_words)"
   ]
  },
  {
   "cell_type": "markdown",
   "id": "0e24374f",
   "metadata": {},
   "source": [
    "Methods <code>toarray()</code> and <code>todense()</code> can be used to obtain (unravel) dense representation of compressed format matrices. Method <code>toarray()</code> returns the <code>numpy</code> array, while the <code>todense()</code> method returns the <code>sclearn</code> matrix."
   ]
  },
  {
   "cell_type": "code",
   "execution_count": 14,
   "id": "afb8a860",
   "metadata": {},
   "outputs": [
    {
     "data": {
      "text/plain": [
       "array([[1, 1, 1, 0, 2, 1, 0, 0, 1, 1, 2, 1, 0],\n",
       "       [0, 0, 0, 1, 0, 0, 1, 1, 1, 0, 1, 0, 1]])"
      ]
     },
     "execution_count": 14,
     "metadata": {},
     "output_type": "execute_result"
    }
   ],
   "source": [
    "corpus_bag_of_words.toarray()"
   ]
  },
  {
   "cell_type": "code",
   "execution_count": 15,
   "id": "1fa19a51",
   "metadata": {},
   "outputs": [
    {
     "data": {
      "text/plain": [
       "matrix([[1, 1, 1, 0, 2, 1, 0, 0, 1, 1, 2, 1, 0],\n",
       "        [0, 0, 0, 1, 0, 0, 1, 1, 1, 0, 1, 0, 1]])"
      ]
     },
     "execution_count": 15,
     "metadata": {},
     "output_type": "execute_result"
    }
   ],
   "source": [
    "corpus_bag_of_words.todense()"
   ]
  },
  {
   "cell_type": "markdown",
   "id": "da4edd23",
   "metadata": {},
   "source": [
    "## TF-IDF method (Term Frequency - Inverse Document Frequency)"
   ]
  },
  {
   "cell_type": "markdown",
   "id": "3820c268",
   "metadata": {},
   "source": [
    "Bag of Words representations (with frequencies) can be further improved by switching to the representation with weights. Weights should reflect the importance of words within a given textual data, but also they should take into account how much information the word provides, i.e., if it's common or rare across all documents. One such representation can be obtained by the **TF-IDF method**, which assigns weights to words based on the **TF-IDF measure**.\n",
    "\n",
    "<img src=\"assets/tfidf_vectorizer.png\" width=750>"
   ]
  },
  {
   "cell_type": "markdown",
   "id": "8e756ef2",
   "metadata": {},
   "source": [
    "**Calculating TF-IDF measure**\n",
    "\n",
    "Let it be: \n",
    "- $D$ - set of text documents (corpus)\n",
    "- $d$ - one text document from $D$\n",
    "- $t$ - one term (word) from $d$\n",
    "\n",
    "The TF-IDF measure of the term $t$ in document $d$ from the corpus $D$ is calculated as the product of the following two factors:\n",
    "- $Tf(t, d)$ - frequency of $t$ in $d$ relative to total number of terms in $d$\n",
    "  $$Tf(t, d) = \\frac{N_t^d}{|d|}$$\n",
    "- $Idf(t, D)$ - logarithmically scaled inverse fraction of the documents in $D$ that contain term $t$ \n",
    "  $$Idf(t, D) = log \\big(\\frac{|D|}{N_t^D}\\big)$$\n",
    "\n",
    "Then TF-IDF is calculated as $$TfIdf(t, d, D) =Tf(t, d)\\cdot Idf(t, D)$$"
   ]
  },
  {
   "cell_type": "markdown",
   "id": "02f45457",
   "metadata": {},
   "source": [
    "The importance of a term increases with the number of its occurrence in the document (TF), but it decreases with the number of documents in the corpus that contain the word (IDF). In this way, terms that are less discriminatory (which are common, appear in a large number of documents) will be assigned smaller weights. By default, IDF-part is logarithmically scaled in order to put it on the “same scale” as the TF-part, ie. to reduce the influence of the IDF part on the total value of the TF-IDF measure when working with large corpora - then the non-logarithmic IDF explodes and only important become terms found in very few documents, while the terms found in a mediocre and large number of documents have negligible weight (importance). More about on this can be read [here](https://towardsdatascience.com/how-tf-idf-works-3dbf35e568f0). In some versions of TF-IDF measure, the TF-part is also logarithmically scaled for the same reason (when individual documents are large).\n",
    "\n",
    "A number of term-weighting schemes have derived from TF-IDF. One of them is [TF-PDF](https://www.researchgate.net/publication/4004411_Topic_extraction_from_news_archive_using_TFPDF_algorithm) (Term Frequency - Proportional Document Frequency). TF-PDF was introduced in 2001 in the context of identifying emerging topics in the media. The PDF component measures the difference of how often a term occurs in different domains. Another derivate is TF-IDuF. In [TF-IDuF](https://www.gipp.com/wp-content/papercite-data/pdf/beel17.pdf),  IDF-part is not calculated based on the document corpus that is to be searched or recommended. Instead, IDF is calculated on users' personal document collections. The authors report that TF–IDuF was equally effective as TF-IDF but could also be applied in situations when, e.g., a user modeling system has no access to a global document corpus."
   ]
  },
  {
   "cell_type": "markdown",
   "id": "254e8b8e",
   "metadata": {},
   "source": [
    "<u>**EXAMPLE**</u>:\n",
    "    \n",
    "Let's consider a document $d$ containing $100$ words in which the word (term) 'present' appears $3$ times.\n",
    "\n",
    "$Tf$('present', $d$) = $\\frac{3}{100}$ = $0.03$\n",
    "\n",
    "Suppose we have $10$ million documents and the word ‘present’ appears in $1000$ of them.\n",
    "\n",
    "$Idf$('present', $D$) = $\\log{(\\frac{10 000 000}{1 000})}$ = $4$\n",
    "\n",
    "Then, $TfIdf$('present', $d$, $D$) = $0.03 \\cdot 4$ = $0.12$."
   ]
  },
  {
   "cell_type": "markdown",
   "id": "c51c45ce",
   "metadata": {},
   "source": [
    "Scikit-learn library provides support for text vectorization using the TF-IDF method through the <code>TfidfVectorizer</code> class. Constructor function has various settings, similar to the ones <code>CountVectorizer</code> had, with the addition of a couple of new ones:\n",
    "- <code>norm</code> - specifying the metrics to be used to normalize vector representations\n",
    "- <code>use_idf</code> - enabling/disabling the IDF part in calculating weights\n",
    "- <code>smooth_idf</code> - smooth IDF weights by adding one to document frequencies, to avoid 0 division when calculating the IDF for terms that are in the vocabulary but did not appear in the corpus (in the case when a pre-prepared vocabulary is assigned, instead of forming on the basis of a given corpus)\n",
    "- <code>sublinear_tf</code> - logarithmic scaling of TF-part "
   ]
  },
  {
   "cell_type": "code",
   "execution_count": 16,
   "id": "91cce5f7",
   "metadata": {},
   "outputs": [],
   "source": [
    "from sklearn.feature_extraction.text import TfidfVectorizer"
   ]
  },
  {
   "cell_type": "code",
   "execution_count": 17,
   "id": "10f73d56",
   "metadata": {},
   "outputs": [],
   "source": [
    "tfidf_vectorizer = TfidfVectorizer()"
   ]
  },
  {
   "cell_type": "markdown",
   "id": "08fbfc40",
   "metadata": {},
   "source": [
    "Method <code>fit()</code> creates a vocabulary for a given set of texts (corpus)."
   ]
  },
  {
   "cell_type": "code",
   "execution_count": 18,
   "id": "aeece641",
   "metadata": {},
   "outputs": [
    {
     "data": {
      "text/plain": [
       "TfidfVectorizer()"
      ]
     },
     "execution_count": 18,
     "metadata": {},
     "output_type": "execute_result"
    }
   ],
   "source": [
    "tfidf_vectorizer.fit(corpus)"
   ]
  },
  {
   "cell_type": "markdown",
   "id": "36ca3b51",
   "metadata": {},
   "source": [
    "A list of extracted features (words) can be obtained by method <code>get_feature_names()</code>."
   ]
  },
  {
   "cell_type": "code",
   "execution_count": 19,
   "id": "8d0b0d0f",
   "metadata": {},
   "outputs": [
    {
     "data": {
      "text/plain": [
       "['and',\n",
       " 'buy',\n",
       " 'go',\n",
       " 'going',\n",
       " 'have',\n",
       " 'her',\n",
       " 'is',\n",
       " 'next',\n",
       " 'present',\n",
       " 'time',\n",
       " 'to',\n",
       " 'today',\n",
       " 'who']"
      ]
     },
     "execution_count": 19,
     "metadata": {},
     "output_type": "execute_result"
    }
   ],
   "source": [
    "tfidf_vectorizer.get_feature_names()"
   ]
  },
  {
   "cell_type": "markdown",
   "id": "243acec7",
   "metadata": {},
   "source": [
    "Extracted features (words) and their associated positions within the vector representation can be obtained by object attribute <code>vocabulary_</code>."
   ]
  },
  {
   "cell_type": "code",
   "execution_count": 20,
   "id": "0353e58b",
   "metadata": {},
   "outputs": [
    {
     "data": {
      "text/plain": [
       "{'have': 4,\n",
       " 'to': 10,\n",
       " 'time': 9,\n",
       " 'today': 11,\n",
       " 'go': 2,\n",
       " 'and': 0,\n",
       " 'buy': 1,\n",
       " 'her': 5,\n",
       " 'present': 8,\n",
       " 'who': 12,\n",
       " 'is': 6,\n",
       " 'going': 3,\n",
       " 'next': 7}"
      ]
     },
     "execution_count": 20,
     "metadata": {},
     "output_type": "execute_result"
    }
   ],
   "source": [
    "tfidf_vectorizer.vocabulary_"
   ]
  },
  {
   "cell_type": "code",
   "execution_count": 21,
   "id": "b1970424",
   "metadata": {},
   "outputs": [
    {
     "data": {
      "text/plain": [
       "13"
      ]
     },
     "execution_count": 21,
     "metadata": {},
     "output_type": "execute_result"
    }
   ],
   "source": [
    "len(tfidf_vectorizer.vocabulary_)"
   ]
  },
  {
   "cell_type": "markdown",
   "id": "e150f1eb",
   "metadata": {},
   "source": [
    "Method <code>transform()</code> yields vector representations of sentences. In our example, both sentences will be represented by vectors of length $13$, so the result is $2\\times13$ matrix."
   ]
  },
  {
   "cell_type": "code",
   "execution_count": 22,
   "id": "b5b0c719",
   "metadata": {},
   "outputs": [],
   "source": [
    "corpus_tfidf = tfidf_vectorizer.transform(corpus)"
   ]
  },
  {
   "cell_type": "code",
   "execution_count": 23,
   "id": "35bcc145",
   "metadata": {},
   "outputs": [
    {
     "data": {
      "text/plain": [
       "(2, 13)"
      ]
     },
     "execution_count": 23,
     "metadata": {},
     "output_type": "execute_result"
    }
   ],
   "source": [
    "corpus_tfidf.shape"
   ]
  },
  {
   "cell_type": "markdown",
   "id": "1dbb5d18",
   "metadata": {},
   "source": [
    "The values found in this representation are now real numbers, with the vectors always being normalized (by default $l_2$ norm). The matrix of vector representations is still sparce and will be forwarded in CSR format."
   ]
  },
  {
   "cell_type": "code",
   "execution_count": 24,
   "id": "16e95147",
   "metadata": {},
   "outputs": [
    {
     "data": {
      "text/plain": [
       "scipy.sparse.csr.csr_matrix"
      ]
     },
     "execution_count": 24,
     "metadata": {},
     "output_type": "execute_result"
    }
   ],
   "source": [
    "type(corpus_tfidf)"
   ]
  },
  {
   "cell_type": "markdown",
   "id": "c6ab665b",
   "metadata": {},
   "source": [
    "Obtaining a dense representation of vectorized sentences is possible using methods <code>toarray()</code> or <code>todense()</code>."
   ]
  },
  {
   "cell_type": "code",
   "execution_count": 25,
   "id": "75388739",
   "metadata": {},
   "outputs": [
    {
     "data": {
      "text/plain": [
       "array([[0.28249016, 0.28249016, 0.28249016, 0.        , 0.56498032,\n",
       "        0.28249016, 0.        , 0.        , 0.20099408, 0.28249016,\n",
       "        0.40198815, 0.28249016, 0.        ],\n",
       "       [0.        , 0.        , 0.        , 0.44665616, 0.        ,\n",
       "        0.        , 0.44665616, 0.44665616, 0.31779954, 0.        ,\n",
       "        0.31779954, 0.        , 0.44665616]])"
      ]
     },
     "execution_count": 25,
     "metadata": {},
     "output_type": "execute_result"
    }
   ],
   "source": [
    "corpus_tfidf.toarray()"
   ]
  },
  {
   "cell_type": "code",
   "execution_count": 26,
   "id": "88f5c58b",
   "metadata": {},
   "outputs": [
    {
     "data": {
      "text/plain": [
       "1.0"
      ]
     },
     "execution_count": 26,
     "metadata": {},
     "output_type": "execute_result"
    }
   ],
   "source": [
    "np.linalg.norm(corpus_tfidf.toarray()[0, :])"
   ]
  },
  {
   "cell_type": "markdown",
   "id": "4dfd53bb",
   "metadata": {},
   "source": [
    "# Example"
   ]
  },
  {
   "cell_type": "markdown",
   "id": "73b05a03",
   "metadata": {},
   "source": [
    "TSV file <code>'data/SMSSpamCollection.tsv'</code> contains a collection of SMS messages with associated labels\n",
    "- 'spam' - if the message is spam\n",
    "- 'ham' - if the message is not spam\n",
    "\n",
    "The task is to make a classifier that distinguishes spam and non-spam messages."
   ]
  },
  {
   "cell_type": "code",
   "execution_count": 27,
   "id": "636ee3c9",
   "metadata": {},
   "outputs": [],
   "source": [
    "data = pd.read_csv('data/SMSSpamCollection.tsv', sep='\\t', header=None)"
   ]
  },
  {
   "cell_type": "code",
   "execution_count": 28,
   "id": "74be08ab",
   "metadata": {},
   "outputs": [
    {
     "data": {
      "text/html": [
       "<div>\n",
       "<style scoped>\n",
       "    .dataframe tbody tr th:only-of-type {\n",
       "        vertical-align: middle;\n",
       "    }\n",
       "\n",
       "    .dataframe tbody tr th {\n",
       "        vertical-align: top;\n",
       "    }\n",
       "\n",
       "    .dataframe thead th {\n",
       "        text-align: right;\n",
       "    }\n",
       "</style>\n",
       "<table border=\"1\" class=\"dataframe\">\n",
       "  <thead>\n",
       "    <tr style=\"text-align: right;\">\n",
       "      <th></th>\n",
       "      <th>0</th>\n",
       "      <th>1</th>\n",
       "    </tr>\n",
       "  </thead>\n",
       "  <tbody>\n",
       "    <tr>\n",
       "      <th>0</th>\n",
       "      <td>ham</td>\n",
       "      <td>Go until jurong point, crazy.. Available only ...</td>\n",
       "    </tr>\n",
       "    <tr>\n",
       "      <th>1</th>\n",
       "      <td>ham</td>\n",
       "      <td>Ok lar... Joking wif u oni...</td>\n",
       "    </tr>\n",
       "    <tr>\n",
       "      <th>2</th>\n",
       "      <td>spam</td>\n",
       "      <td>Free entry in 2 a wkly comp to win FA Cup fina...</td>\n",
       "    </tr>\n",
       "    <tr>\n",
       "      <th>3</th>\n",
       "      <td>ham</td>\n",
       "      <td>U dun say so early hor... U c already then say...</td>\n",
       "    </tr>\n",
       "    <tr>\n",
       "      <th>4</th>\n",
       "      <td>ham</td>\n",
       "      <td>Nah I don't think he goes to usf, he lives aro...</td>\n",
       "    </tr>\n",
       "  </tbody>\n",
       "</table>\n",
       "</div>"
      ],
      "text/plain": [
       "      0                                                  1\n",
       "0   ham  Go until jurong point, crazy.. Available only ...\n",
       "1   ham                      Ok lar... Joking wif u oni...\n",
       "2  spam  Free entry in 2 a wkly comp to win FA Cup fina...\n",
       "3   ham  U dun say so early hor... U c already then say...\n",
       "4   ham  Nah I don't think he goes to usf, he lives aro..."
      ]
     },
     "execution_count": 28,
     "metadata": {},
     "output_type": "execute_result"
    }
   ],
   "source": [
    "data.head()"
   ]
  },
  {
   "cell_type": "markdown",
   "id": "696169b1",
   "metadata": {},
   "source": [
    "Total number of SMS messages:"
   ]
  },
  {
   "cell_type": "code",
   "execution_count": 29,
   "id": "c5ab68b4",
   "metadata": {},
   "outputs": [
    {
     "data": {
      "text/plain": [
       "5572"
      ]
     },
     "execution_count": 29,
     "metadata": {},
     "output_type": "execute_result"
    }
   ],
   "source": [
    "data.shape[0]"
   ]
  },
  {
   "cell_type": "markdown",
   "id": "78c620d8",
   "metadata": {},
   "source": [
    "We will use the column with index 0 as the target variable (by assigning numbers 0 and 1 to classes) and column with index 1 will be used for feature extraction over which the model will be trained."
   ]
  },
  {
   "cell_type": "code",
   "execution_count": 30,
   "id": "1e31bf91",
   "metadata": {},
   "outputs": [],
   "source": [
    "x = data[1]\n",
    "y = data[0].apply(lambda x : int(x == 'spam'))"
   ]
  },
  {
   "cell_type": "markdown",
   "id": "6fa03c49",
   "metadata": {},
   "source": [
    "Class distribution:"
   ]
  },
  {
   "cell_type": "code",
   "execution_count": 31,
   "id": "5ccde7f8",
   "metadata": {},
   "outputs": [
    {
     "data": {
      "image/png": "[encoded data removed]",
      "text/plain": [
       "<Figure size 432x288 with 1 Axes>"
      ]
     },
     "metadata": {
      "needs_background": "light"
     },
     "output_type": "display_data"
    }
   ],
   "source": [
    "plt.hist(y)\n",
    "plt.xticks([0, 1], labels=['ham', 'spam'])\n",
    "plt.show()"
   ]
  },
  {
   "cell_type": "markdown",
   "id": "9e7266d7",
   "metadata": {},
   "source": [
    "Dataset is splitted into a training and test subsets in ratio 2:1, with stratification (parameter <code>stratify</code>). The value of the parameter <code>random_state</code> is fixed in order to make reproducible train test split."
   ]
  },
  {
   "cell_type": "code",
   "execution_count": 32,
   "id": "088b6ae4",
   "metadata": {},
   "outputs": [],
   "source": [
    "x_train, x_test, y_train, y_test = model_selection.train_test_split(x, y, test_size=0.33, stratify=y, random_state=7)"
   ]
  },
  {
   "cell_type": "code",
   "execution_count": 33,
   "id": "4dec4b02",
   "metadata": {},
   "outputs": [
    {
     "data": {
      "text/plain": [
       "(3733,)"
      ]
     },
     "execution_count": 33,
     "metadata": {},
     "output_type": "execute_result"
    }
   ],
   "source": [
    "x_train.shape"
   ]
  },
  {
   "cell_type": "code",
   "execution_count": 34,
   "id": "33e43ad2",
   "metadata": {},
   "outputs": [
    {
     "data": {
      "text/plain": [
       "(1839,)"
      ]
     },
     "execution_count": 34,
     "metadata": {},
     "output_type": "execute_result"
    }
   ],
   "source": [
    "x_test.shape"
   ]
  },
  {
   "cell_type": "markdown",
   "id": "fa57ca8d",
   "metadata": {},
   "source": [
    "## Text representation using the Bag of Words method (with frequencies)"
   ]
  },
  {
   "cell_type": "markdown",
   "id": "e3237c7f",
   "metadata": {},
   "source": [
    "Firstly we well try with Bag of Words representations (with frequencies) and train several types of classification models. When building a vocabulary, we exclude words that appear less than 2 times."
   ]
  },
  {
   "cell_type": "code",
   "execution_count": 35,
   "id": "1f7e222e",
   "metadata": {},
   "outputs": [],
   "source": [
    "sms_count_vectorizer = CountVectorizer(min_df=2)"
   ]
  },
  {
   "cell_type": "markdown",
   "id": "ef245553",
   "metadata": {},
   "source": [
    "Vocabulary is, by rule, built over a training set. Later, while obtaining vector representations for test set instances, all unknown words (words that are not present in the vocabulary) will be ignored."
   ]
  },
  {
   "cell_type": "code",
   "execution_count": 36,
   "id": "a8c3d00d",
   "metadata": {},
   "outputs": [
    {
     "data": {
      "text/plain": [
       "CountVectorizer(min_df=2)"
      ]
     },
     "execution_count": 36,
     "metadata": {},
     "output_type": "execute_result"
    }
   ],
   "source": [
    "sms_count_vectorizer.fit(x_train)"
   ]
  },
  {
   "cell_type": "markdown",
   "id": "b3c2ba46",
   "metadata": {},
   "source": [
    "Size of the built vocabulary:"
   ]
  },
  {
   "cell_type": "code",
   "execution_count": 37,
   "id": "6f67ed2b",
   "metadata": {},
   "outputs": [],
   "source": [
    "feature_names = sms_count_vectorizer.get_feature_names()"
   ]
  },
  {
   "cell_type": "code",
   "execution_count": 38,
   "id": "62b77db7",
   "metadata": {},
   "outputs": [
    {
     "data": {
      "text/plain": [
       "3209"
      ]
     },
     "execution_count": 38,
     "metadata": {},
     "output_type": "execute_result"
    }
   ],
   "source": [
    "len(feature_names)"
   ]
  },
  {
   "cell_type": "markdown",
   "id": "8e76a54d",
   "metadata": {},
   "source": [
    "Vectorization of training and test set text data:"
   ]
  },
  {
   "cell_type": "code",
   "execution_count": 39,
   "id": "968054a1",
   "metadata": {},
   "outputs": [],
   "source": [
    "x_train_vectorized = sms_count_vectorizer.transform(x_train)\n",
    "x_test_vectorized = sms_count_vectorizer.transform(x_test)"
   ]
  },
  {
   "cell_type": "markdown",
   "id": "012f2513",
   "metadata": {},
   "source": [
    "### Model 1 - logistic regression"
   ]
  },
  {
   "cell_type": "markdown",
   "id": "47d48a62",
   "metadata": {},
   "source": [
    "We construct a simple logistic regression model and train it on a vectorized training set."
   ]
  },
  {
   "cell_type": "code",
   "execution_count": 40,
   "id": "80e205b6",
   "metadata": {},
   "outputs": [],
   "source": [
    "model1 = linear_model.LogisticRegression()"
   ]
  },
  {
   "cell_type": "code",
   "execution_count": 41,
   "id": "5dba5cf5",
   "metadata": {},
   "outputs": [
    {
     "data": {
      "text/plain": [
       "LogisticRegression()"
      ]
     },
     "execution_count": 41,
     "metadata": {},
     "output_type": "execute_result"
    }
   ],
   "source": [
    "model1.fit(x_train_vectorized, y_train)"
   ]
  },
  {
   "cell_type": "markdown",
   "id": "cf695a41",
   "metadata": {},
   "source": [
    "Accuracy of the model on the training and test set:"
   ]
  },
  {
   "cell_type": "code",
   "execution_count": 42,
   "id": "52ce600e",
   "metadata": {},
   "outputs": [
    {
     "data": {
      "text/plain": [
       "0.995713903027056"
      ]
     },
     "execution_count": 42,
     "metadata": {},
     "output_type": "execute_result"
    }
   ],
   "source": [
    "model1.score(x_train_vectorized, y_train)"
   ]
  },
  {
   "cell_type": "code",
   "execution_count": 43,
   "id": "ee18a751",
   "metadata": {},
   "outputs": [
    {
     "data": {
      "text/plain": [
       "0.9831430125067971"
      ]
     },
     "execution_count": 43,
     "metadata": {},
     "output_type": "execute_result"
    }
   ],
   "source": [
    "model1.score(x_test_vectorized, y_test)"
   ]
  },
  {
   "cell_type": "markdown",
   "id": "6b43ae41",
   "metadata": {},
   "source": [
    "Confusion matrix:"
   ]
  },
  {
   "cell_type": "code",
   "execution_count": 44,
   "id": "4555b7b1",
   "metadata": {},
   "outputs": [],
   "source": [
    "y_test_predicted = model1.predict(x_test_vectorized)"
   ]
  },
  {
   "cell_type": "code",
   "execution_count": 45,
   "id": "dfa4b424",
   "metadata": {},
   "outputs": [
    {
     "data": {
      "text/plain": [
       "array([[1589,    3],\n",
       "       [  28,  219]])"
      ]
     },
     "execution_count": 45,
     "metadata": {},
     "output_type": "execute_result"
    }
   ],
   "source": [
    "metrics.confusion_matrix(y_test, y_test_predicted)"
   ]
  },
  {
   "cell_type": "markdown",
   "id": "31eb6788",
   "metadata": {},
   "source": [
    "### Model 2 - linear SVM"
   ]
  },
  {
   "cell_type": "markdown",
   "id": "782606d2",
   "metadata": {},
   "source": [
    "We construct a linear SVM (Support Vector Machine) model and train it on a vectorized training set."
   ]
  },
  {
   "cell_type": "code",
   "execution_count": 46,
   "id": "1aa08dc5",
   "metadata": {},
   "outputs": [],
   "source": [
    "model2 = svm.LinearSVC()"
   ]
  },
  {
   "cell_type": "code",
   "execution_count": 47,
   "id": "b4af5e5e",
   "metadata": {},
   "outputs": [
    {
     "data": {
      "text/plain": [
       "LinearSVC()"
      ]
     },
     "execution_count": 47,
     "metadata": {},
     "output_type": "execute_result"
    }
   ],
   "source": [
    "model2.fit(x_train_vectorized, y_train)"
   ]
  },
  {
   "cell_type": "markdown",
   "id": "ccefbfab",
   "metadata": {},
   "source": [
    "Accuracy of the model on the training and test set:"
   ]
  },
  {
   "cell_type": "code",
   "execution_count": 48,
   "id": "9c189734",
   "metadata": {},
   "outputs": [
    {
     "data": {
      "text/plain": [
       "0.999464237878382"
      ]
     },
     "execution_count": 48,
     "metadata": {},
     "output_type": "execute_result"
    }
   ],
   "source": [
    "model2.score(x_train_vectorized, y_train)"
   ]
  },
  {
   "cell_type": "code",
   "execution_count": 49,
   "id": "f4053d04",
   "metadata": {},
   "outputs": [
    {
     "data": {
      "text/plain": [
       "0.9864056552474171"
      ]
     },
     "execution_count": 49,
     "metadata": {},
     "output_type": "execute_result"
    }
   ],
   "source": [
    "model2.score(x_test_vectorized, y_test)"
   ]
  },
  {
   "cell_type": "markdown",
   "id": "ba3b1eef",
   "metadata": {},
   "source": [
    "Confusion matrix:"
   ]
  },
  {
   "cell_type": "code",
   "execution_count": 50,
   "id": "d6c8aa1f",
   "metadata": {},
   "outputs": [],
   "source": [
    "y_test_predicted = model2.predict(x_test_vectorized)"
   ]
  },
  {
   "cell_type": "code",
   "execution_count": 51,
   "id": "c02c77fc",
   "metadata": {},
   "outputs": [
    {
     "data": {
      "text/plain": [
       "array([[1589,    3],\n",
       "       [  22,  225]])"
      ]
     },
     "execution_count": 51,
     "metadata": {},
     "output_type": "execute_result"
    }
   ],
   "source": [
    "metrics.confusion_matrix(y_test, y_test_predicted)"
   ]
  },
  {
   "cell_type": "markdown",
   "id": "ed5ca039",
   "metadata": {},
   "source": [
    "### Model 3 - *k* nearest neighbors"
   ]
  },
  {
   "cell_type": "markdown",
   "id": "9cbe0094",
   "metadata": {},
   "source": [
    "We construct a *k* nearest neighbors classifier (observing the 4 nearest neighbors) and train it on a vectorized training set."
   ]
  },
  {
   "cell_type": "code",
   "execution_count": 52,
   "id": "fecf0553",
   "metadata": {},
   "outputs": [],
   "source": [
    "model3 = neighbors.KNeighborsClassifier(n_neighbors=4)"
   ]
  },
  {
   "cell_type": "code",
   "execution_count": 53,
   "id": "d42f4b05",
   "metadata": {},
   "outputs": [
    {
     "data": {
      "text/plain": [
       "KNeighborsClassifier(n_neighbors=4)"
      ]
     },
     "execution_count": 53,
     "metadata": {},
     "output_type": "execute_result"
    }
   ],
   "source": [
    "model3.fit(x_train_vectorized, y_train)"
   ]
  },
  {
   "cell_type": "markdown",
   "id": "76befe93",
   "metadata": {},
   "source": [
    "Accuracy of the model on the training and test set:"
   ]
  },
  {
   "cell_type": "code",
   "execution_count": 54,
   "id": "d68835e0",
   "metadata": {},
   "outputs": [
    {
     "data": {
      "text/plain": [
       "0.9298151620680418"
      ]
     },
     "execution_count": 54,
     "metadata": {},
     "output_type": "execute_result"
    }
   ],
   "source": [
    "model3.score(x_train_vectorized, y_train)"
   ]
  },
  {
   "cell_type": "code",
   "execution_count": 55,
   "id": "45760d4f",
   "metadata": {},
   "outputs": [
    {
     "data": {
      "text/plain": [
       "0.912452419793366"
      ]
     },
     "execution_count": 55,
     "metadata": {},
     "output_type": "execute_result"
    }
   ],
   "source": [
    "model3.score(x_test_vectorized, y_test)"
   ]
  },
  {
   "cell_type": "markdown",
   "id": "de54d91e",
   "metadata": {},
   "source": [
    "Confusion matrix:"
   ]
  },
  {
   "cell_type": "code",
   "execution_count": 56,
   "id": "f2b49bc1",
   "metadata": {},
   "outputs": [],
   "source": [
    "y_test_predicted = model3.predict(x_test_vectorized)"
   ]
  },
  {
   "cell_type": "code",
   "execution_count": 57,
   "id": "5284e66a",
   "metadata": {},
   "outputs": [
    {
     "data": {
      "text/plain": [
       "array([[1591,    1],\n",
       "       [ 160,   87]])"
      ]
     },
     "execution_count": 57,
     "metadata": {},
     "output_type": "execute_result"
    }
   ],
   "source": [
    "metrics.confusion_matrix(y_test, y_test_predicted)"
   ]
  },
  {
   "cell_type": "markdown",
   "id": "a8cd0827",
   "metadata": {},
   "source": [
    "### Detection of the most relevant words for SMS classification"
   ]
  },
  {
   "cell_type": "markdown",
   "id": "65a8002a",
   "metadata": {},
   "source": [
    "Following function visualizes the coefficients of the model <code>classifier</code>, ie the corresponding features (words) <code>feature_names</code> showing only the <code>n_top_features</code> features (words) that are most relevant for predicting the positive and negative classes. For the title of the graph will be set <code>title</code>."
   ]
  },
  {
   "cell_type": "code",
   "execution_count": 58,
   "id": "f2ba4e3b",
   "metadata": {},
   "outputs": [],
   "source": [
    "def visualize_coefficients(title, classifier, feature_names, n_top_features=25):\n",
    "    coefs = classifier.coef_.ravel()\n",
    "    \n",
    "    negative_coefs_indices = np.argsort(coefs)[:n_top_features]\n",
    "    positive_coefs_indices = np.argsort(coefs)[-n_top_features:]\n",
    "    \n",
    "    most_decisive_coefs_indices = np.hstack([negative_coefs_indices, positive_coefs_indices])\n",
    "    most_decisive_coefs = coefs[most_decisive_coefs_indices]\n",
    "    \n",
    "    plt.figure(figsize=(15, 5))\n",
    "    plt.title(title)\n",
    "    colors = ['orange' if c < 0 else 'cadetblue' for c in most_decisive_coefs]\n",
    "    plt.bar(np.arange(2*n_top_features), most_decisive_coefs, color=colors)\n",
    "    \n",
    "    most_decisive_feature_names = np.array(feature_names)[most_decisive_coefs_indices]\n",
    "    plt.xticks(np.arange(2*n_top_features), most_decisive_feature_names, rotation='vertical')"
   ]
  },
  {
   "cell_type": "code",
   "execution_count": 59,
   "id": "8f89ad65",
   "metadata": {},
   "outputs": [
    {
     "data": {
      "image/png": "[encoded data removed]",
      "text/plain": [
       "<Figure size 1080x360 with 1 Axes>"
      ]
     },
     "metadata": {
      "needs_background": "light"
     },
     "output_type": "display_data"
    }
   ],
   "source": [
    "visualize_coefficients('Bag of Words reprsentations and logistic regression model', model1, feature_names)"
   ]
  },
  {
   "cell_type": "code",
   "execution_count": 60,
   "id": "9e624d60",
   "metadata": {},
   "outputs": [
    {
     "data": {
      "image/png": "[encoded data removed]",
      "text/plain": [
       "<Figure size 1080x360 with 1 Axes>"
      ]
     },
     "metadata": {
      "needs_background": "light"
     },
     "output_type": "display_data"
    }
   ],
   "source": [
    "visualize_coefficients('Bag of Words representations and linear SVM model', model2, feature_names)"
   ]
  },
  {
   "cell_type": "markdown",
   "id": "ef0acb92",
   "metadata": {},
   "source": [
    "Model *k* nearest neighbors does not have an explicit form, that is, it is not determined by some coefficients, so we cannot get to the most relevant words in this way."
   ]
  },
  {
   "cell_type": "markdown",
   "id": "06728b3f",
   "metadata": {},
   "source": [
    "## Text representation using the TF-IDF method"
   ]
  },
  {
   "cell_type": "markdown",
   "id": "3dcdaf27",
   "metadata": {},
   "source": [
    "Now we well try with TF-IDF representations and train same types of classification models in order to compare them with the previous ones. When building a vocabulary, we exclude words that appear less than 2 times."
   ]
  },
  {
   "cell_type": "code",
   "execution_count": 61,
   "id": "35f2328d",
   "metadata": {},
   "outputs": [],
   "source": [
    "sms_tfidf_vectorizer = TfidfVectorizer(min_df=2)"
   ]
  },
  {
   "cell_type": "markdown",
   "id": "b0573e36",
   "metadata": {},
   "source": [
    "Building vocabulary based on instances of the training set:"
   ]
  },
  {
   "cell_type": "code",
   "execution_count": 62,
   "id": "068e9270",
   "metadata": {},
   "outputs": [
    {
     "data": {
      "text/plain": [
       "TfidfVectorizer(min_df=2)"
      ]
     },
     "execution_count": 62,
     "metadata": {},
     "output_type": "execute_result"
    }
   ],
   "source": [
    "sms_tfidf_vectorizer.fit(x_train)"
   ]
  },
  {
   "cell_type": "markdown",
   "id": "82342aa8",
   "metadata": {},
   "source": [
    "Size of the built vocabulary (same as with the Bags of Words method):"
   ]
  },
  {
   "cell_type": "code",
   "execution_count": 63,
   "id": "8d4b0c9f",
   "metadata": {},
   "outputs": [],
   "source": [
    "feature_names = sms_tfidf_vectorizer.get_feature_names()"
   ]
  },
  {
   "cell_type": "code",
   "execution_count": 64,
   "id": "f2023b79",
   "metadata": {},
   "outputs": [
    {
     "data": {
      "text/plain": [
       "3209"
      ]
     },
     "execution_count": 64,
     "metadata": {},
     "output_type": "execute_result"
    }
   ],
   "source": [
    "len(feature_names)"
   ]
  },
  {
   "cell_type": "markdown",
   "id": "0def9f90",
   "metadata": {},
   "source": [
    "Vectorization of training and test set text data:"
   ]
  },
  {
   "cell_type": "code",
   "execution_count": 65,
   "id": "8db0038d",
   "metadata": {},
   "outputs": [],
   "source": [
    "x_train_vectorized = sms_tfidf_vectorizer.transform(x_train)\n",
    "x_test_vectorized = sms_tfidf_vectorizer.transform(x_test)"
   ]
  },
  {
   "cell_type": "markdown",
   "id": "01f1cd9c",
   "metadata": {},
   "source": [
    "### Model 1 - logisticka regresija"
   ]
  },
  {
   "cell_type": "markdown",
   "id": "8d51069f",
   "metadata": {},
   "source": [
    "We construct a simple logistic regression model and train it on a vectorized training set."
   ]
  },
  {
   "cell_type": "code",
   "execution_count": 66,
   "id": "3168e553",
   "metadata": {},
   "outputs": [],
   "source": [
    "model1 = linear_model.LogisticRegression()"
   ]
  },
  {
   "cell_type": "code",
   "execution_count": 67,
   "id": "ee7e5db3",
   "metadata": {},
   "outputs": [
    {
     "data": {
      "text/plain": [
       "LogisticRegression()"
      ]
     },
     "execution_count": 67,
     "metadata": {},
     "output_type": "execute_result"
    }
   ],
   "source": [
    "model1.fit(x_train_vectorized, y_train)"
   ]
  },
  {
   "cell_type": "markdown",
   "id": "97a071c5",
   "metadata": {},
   "source": [
    "Accuracy of the model on the training and test set:"
   ]
  },
  {
   "cell_type": "code",
   "execution_count": 68,
   "id": "fff26164",
   "metadata": {},
   "outputs": [
    {
     "data": {
      "text/plain": [
       "0.976158585587999"
      ]
     },
     "execution_count": 68,
     "metadata": {},
     "output_type": "execute_result"
    }
   ],
   "source": [
    "model1.score(x_train_vectorized, y_train)"
   ]
  },
  {
   "cell_type": "code",
   "execution_count": 69,
   "id": "8ad204bd",
   "metadata": {},
   "outputs": [
    {
     "data": {
      "text/plain": [
       "0.9690048939641109"
      ]
     },
     "execution_count": 69,
     "metadata": {},
     "output_type": "execute_result"
    }
   ],
   "source": [
    "model1.score(x_test_vectorized, y_test)"
   ]
  },
  {
   "cell_type": "markdown",
   "id": "414b41b5",
   "metadata": {},
   "source": [
    "Confusion matrix:"
   ]
  },
  {
   "cell_type": "code",
   "execution_count": 70,
   "id": "2324de18",
   "metadata": {},
   "outputs": [],
   "source": [
    "y_test_predicted = model1.predict(x_test_vectorized)"
   ]
  },
  {
   "cell_type": "code",
   "execution_count": 71,
   "id": "475f969b",
   "metadata": {},
   "outputs": [
    {
     "data": {
      "text/plain": [
       "array([[1591,    1],\n",
       "       [  56,  191]])"
      ]
     },
     "execution_count": 71,
     "metadata": {},
     "output_type": "execute_result"
    }
   ],
   "source": [
    "metrics.confusion_matrix(y_test, y_test_predicted)"
   ]
  },
  {
   "cell_type": "markdown",
   "id": "dfc22a28",
   "metadata": {},
   "source": [
    "Note that the accuracy of the model trained on TF-IDF representations is slightly worse compared to the same model trained on Bag of Words representations. It is possible that accuracy and confusion matrix are not appropriate measures and that it was necessary to look at the values of other measures in both cases (e.g. AUC measures). Also, it may be that the TF-IDF measure in the default variant is not suitable for this problem and that better results may be obtained by logarithmizing the TF-part of the measure."
   ]
  },
  {
   "cell_type": "markdown",
   "id": "94276cb1",
   "metadata": {},
   "source": [
    "### Model 2 - linearni SVM"
   ]
  },
  {
   "cell_type": "markdown",
   "id": "79ae6893",
   "metadata": {},
   "source": [
    "We construct a linear SVM (Support Vector Machine) model and train it on a vectorized training set."
   ]
  },
  {
   "cell_type": "code",
   "execution_count": 72,
   "id": "f5777614",
   "metadata": {},
   "outputs": [],
   "source": [
    "model2 = svm.LinearSVC()"
   ]
  },
  {
   "cell_type": "code",
   "execution_count": 73,
   "id": "991e1fe8",
   "metadata": {},
   "outputs": [
    {
     "data": {
      "text/plain": [
       "LinearSVC()"
      ]
     },
     "execution_count": 73,
     "metadata": {},
     "output_type": "execute_result"
    }
   ],
   "source": [
    "model2.fit(x_train_vectorized, y_train)"
   ]
  },
  {
   "cell_type": "markdown",
   "id": "290b1c6d",
   "metadata": {},
   "source": [
    "Accuracy of the model on the training and test set:"
   ]
  },
  {
   "cell_type": "code",
   "execution_count": 74,
   "id": "d6e68dcb",
   "metadata": {},
   "outputs": [
    {
     "data": {
      "text/plain": [
       "0.997856951513528"
      ]
     },
     "execution_count": 74,
     "metadata": {},
     "output_type": "execute_result"
    }
   ],
   "source": [
    "model2.score(x_train_vectorized, y_train)"
   ]
  },
  {
   "cell_type": "code",
   "execution_count": 75,
   "id": "cb83d7b5",
   "metadata": {},
   "outputs": [
    {
     "data": {
      "text/plain": [
       "0.9864056552474171"
      ]
     },
     "execution_count": 75,
     "metadata": {},
     "output_type": "execute_result"
    }
   ],
   "source": [
    "model2.score(x_test_vectorized, y_test)"
   ]
  },
  {
   "cell_type": "markdown",
   "id": "bdc7dcce",
   "metadata": {},
   "source": [
    "Confusion matrix:"
   ]
  },
  {
   "cell_type": "code",
   "execution_count": 76,
   "id": "be040717",
   "metadata": {},
   "outputs": [],
   "source": [
    "y_test_predicted = model2.predict(x_test_vectorized)"
   ]
  },
  {
   "cell_type": "code",
   "execution_count": 77,
   "id": "011692fa",
   "metadata": {},
   "outputs": [
    {
     "data": {
      "text/plain": [
       "array([[1590,    2],\n",
       "       [  23,  224]])"
      ]
     },
     "execution_count": 77,
     "metadata": {},
     "output_type": "execute_result"
    }
   ],
   "source": [
    "metrics.confusion_matrix(y_test, y_test_predicted)"
   ]
  },
  {
   "cell_type": "markdown",
   "id": "1a587def",
   "metadata": {},
   "source": [
    "Note that we obtained very similar results as in the case of the same model trained on Bag of Words representations."
   ]
  },
  {
   "cell_type": "markdown",
   "id": "ef1e0ebc",
   "metadata": {},
   "source": [
    "### Model 3 - *k* najblizih suseda"
   ]
  },
  {
   "cell_type": "markdown",
   "id": "18682b3c",
   "metadata": {},
   "source": [
    "We construct a *k* nearest neighbors classifier (observing the 4 nearest neighbors) and train it on a vectorized training set."
   ]
  },
  {
   "cell_type": "code",
   "execution_count": 78,
   "id": "4af737ca",
   "metadata": {},
   "outputs": [],
   "source": [
    "model3 = neighbors.KNeighborsClassifier(n_neighbors=4)"
   ]
  },
  {
   "cell_type": "code",
   "execution_count": 79,
   "id": "3ea183e5",
   "metadata": {},
   "outputs": [
    {
     "data": {
      "text/plain": [
       "KNeighborsClassifier(n_neighbors=4)"
      ]
     },
     "execution_count": 79,
     "metadata": {},
     "output_type": "execute_result"
    }
   ],
   "source": [
    "model3.fit(x_train_vectorized, y_train)"
   ]
  },
  {
   "cell_type": "markdown",
   "id": "01321b1f",
   "metadata": {},
   "source": [
    "Accuracy of the model on the training and test set:"
   ]
  },
  {
   "cell_type": "code",
   "execution_count": 80,
   "id": "5347e5e2",
   "metadata": {},
   "outputs": [
    {
     "data": {
      "text/plain": [
       "0.9373158317706938"
      ]
     },
     "execution_count": 80,
     "metadata": {},
     "output_type": "execute_result"
    }
   ],
   "source": [
    "model3.score(x_train_vectorized, y_train)"
   ]
  },
  {
   "cell_type": "code",
   "execution_count": 81,
   "id": "5462718e",
   "metadata": {},
   "outputs": [
    {
     "data": {
      "text/plain": [
       "0.9222403480152257"
      ]
     },
     "execution_count": 81,
     "metadata": {},
     "output_type": "execute_result"
    }
   ],
   "source": [
    "model3.score(x_test_vectorized, y_test)"
   ]
  },
  {
   "cell_type": "markdown",
   "id": "e495c1e4",
   "metadata": {},
   "source": [
    "Confusion matrix:"
   ]
  },
  {
   "cell_type": "code",
   "execution_count": 82,
   "id": "86359ece",
   "metadata": {},
   "outputs": [],
   "source": [
    "y_test_predicted = model3.predict(x_test_vectorized)"
   ]
  },
  {
   "cell_type": "code",
   "execution_count": 83,
   "id": "96bd9e3d",
   "metadata": {},
   "outputs": [
    {
     "data": {
      "text/plain": [
       "array([[1592,    0],\n",
       "       [ 143,  104]])"
      ]
     },
     "execution_count": 83,
     "metadata": {},
     "output_type": "execute_result"
    }
   ],
   "source": [
    "metrics.confusion_matrix(y_test, y_test_predicted)"
   ]
  },
  {
   "cell_type": "markdown",
   "id": "8e71740c",
   "metadata": {},
   "source": [
    "Note that we got slightly better results compared to the same model trained at the Bag of Words representations."
   ]
  },
  {
   "cell_type": "markdown",
   "id": "fd976979",
   "metadata": {},
   "source": [
    "<div class='alert alert-info'>\n",
    "TO DO:\n",
    "    \n",
    "Analyze the values of the coefficients of all obtained models (those that have a parametric representation) and detect words that appear as the most relevant in all/most of models.    \n",
    "</div>"
   ]
  }
 ],
 "metadata": {
  "kernelspec": {
   "display_name": "Python 3",
   "language": "python",
   "name": "python3"
  },
  "language_info": {
   "codemirror_mode": {
    "name": "ipython",
    "version": 3
   },
   "file_extension": ".py",
   "mimetype": "text/x-python",
   "name": "python",
   "nbconvert_exporter": "python",
   "pygments_lexer": "ipython3",
   "version": "3.8.8"
  }
 },
 "nbformat": 4,
 "nbformat_minor": 5
}
